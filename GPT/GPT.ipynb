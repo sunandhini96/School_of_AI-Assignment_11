import torch
#from model import Transformer
from transformers import AutoTokenizer  # pip install transformers
#from utils import (
#     BATCH_SIZE,
#     BLOCK_SIZE,
#     DEVICE,
#     DROPOUT,
#     LEARNING_RATE,
#     NUM_EMBED,
#     NUM_HEAD,
#     NUM_LAYER,
#     MAX_ITER,
#     EVAL_INTER,
#     encode,
#     decode,
#     get_batch,
#     save_model_to_chekpoint,
#     estimate_loss,
# )

# load model from checkpoint
# m = load_model_from_checkpoint(Transformer,vocab_size=vocab_size)

# example to decode sequence
# enc_sec = m.generate(idx=torch.zeros((1,1), dtype=torch.long),
# max_new_tokens=20)[0].tolist()
# print(decode(vocab=vocab, enc_sec=enc_sec))

# raw data
path_do_data = "/content/drive/MyDrive/sunandini/data.txt"
data_raw = open(path_do_data, encoding="utf-8").read()
# we use pretrained BERT tokenizer for performance improvements
tokenizer = AutoTokenizer.from_pretrained("bert-base-uncased")
vocab_size = tokenizer.vocab_size
# data_raw = data_raw[4000000:] # short dataset

# train/val split
data = encode(text_seq=data_raw, tokenizer=tokenizer)
n = int(0.9 * len(data))  # first 90% will be train, rest val
train_data = data[:n]
val_data = data[n:]

# train a new model
model = Transformer(
    vocab_size=vocab_size,
    num_embed=NUM_EMBED,
    block_size=BLOCK_SIZE,
    num_heads=NUM_HEAD,
    num_layers=NUM_LAYER,
    dropout=DROPOUT,
)
# load model to GPU if available
m = model.to(DEVICE)
# print the number of parameters in the model
print(
    "Model with {:.2f}M parameters".format(sum(p.numel() for p in m.parameters()) / 1e6)
)
